{
 "cells": [
  {
   "cell_type": "code",
   "execution_count": 13,
   "metadata": {},
   "outputs": [
    {
     "name": "stderr",
     "output_type": "stream",
     "text": [
      "C:\\Users\\24450\\AppData\\Local\\Temp\\ipykernel_5228\\991477141.py:10: DeprecationWarning: executable_path has been deprecated, please pass in a Service object\n",
      "  driver=webdriver.Firefox(executable_path=r\"D:\\数据科学\\Spider\\drivers\\geckodriver-v0.30.0-win64\\geckodriver.exe\")\n"
     ]
    }
   ],
   "source": [
    "# -*- coding: utf-8 -*-\n",
    "\n",
    "import time\n",
    "from selenium import webdriver\n",
    "from selenium.webdriver.common.by import By\n",
    "from selenium.webdriver.support.ui import WebDriverWait\n",
    "from selenium.webdriver.support import expected_conditions as EC\n",
    "\n",
    "# 打开浏览器\n",
    "driver=webdriver.Firefox(executable_path=r\"D:\\数据科学\\Spider\\drivers\\geckodriver-v0.30.0-win64\\geckodriver.exe\")\n",
    "url='http://data.zibo.gov.cn/zibo/catalog/index?page=1'#填入目标网址\n",
    "driver.get(url)\n",
    "driver.maximize_window()\n",
    "# //*[@id=\"app\"]/div[7]/div[2]/div[3]/ul/li[1]/div[3]/div[3]/span[2]\n",
    "# //*[@id=\"app\"]/div[7]/div[2]/div[3]/ul/li[2]/div[3]/div[3]/span[2]\n",
    "# //*[@id=\"app\"]/div[7]/div[2]/div[3]/ul/li[3]/div[3]/div[3]/span[2]\n",
    "# /html/body/div[1]/div[7]/div[2]/div[4]/div/a[10]\n",
    "# /html/body/div[1]/div[7]/div[2]/div[4]/div/a[7]\n",
    "\n",
    "\n",
    "filename='数据发布时间.csv'\n",
    "number1 = 0 #当前爬取的页面序数\n",
    "number2 = 594 #需要爬取的页面总数\n",
    "\n",
    "# “下一页”定位失败\n",
    "def repeat1(): #爬取除最后一页的整齐页面\n",
    "    global number1 #声明，否则函数内部会重新声明一个局部变量\n",
    "    for j in range(1, 11, 1):\n",
    "        time = driver.find_element(By.XPATH,'//*[@id=\"app\"]/div[7]/div[2]/div[3]/ul/li['+str(j)+']/div[3]/div[3]/span[2]')\n",
    "        with open(filename,'a',encoding='utf-8') as file_object:\n",
    "             file_object.write(time.text+\"\\n\")\n",
    "        if j == 10:\n",
    "        \t# 每次循环完一个页面，number+1\n",
    "            number1 += 1\n",
    "            if number1 <= number2-2:\n",
    "                # 通过css选择器获取 “下一页” 按钮，再通过click()模拟点击\n",
    "                # driver.find_element(By.XPATH,'/html/body/div[1]/div[7]/div[2]/div[4]/div/a[10]').click()\n",
    "                btn = WebDriverWait(driver, 1).until(EC.element_to_be_clickable((By.XPATH, \"//*[@id='app']/div[7]/div[2]/div[4]/div/a[10]\")))\n",
    "                btn.click() \n",
    "                # 迭代\n",
    "                repeat1()\n",
    "\n",
    "# 运行repeat()方法\n",
    "\n",
    "# def spy_page(order=1):\n"
   ]
  },
  {
   "cell_type": "code",
   "execution_count": 14,
   "metadata": {},
   "outputs": [
    {
     "ename": "TimeoutException",
     "evalue": "Message: \nStacktrace:\nWebDriverError@chrome://remote/content/shared/webdriver/Errors.jsm:183:5\nNoSuchElementError@chrome://remote/content/shared/webdriver/Errors.jsm:395:5\nelement.find/</<@chrome://remote/content/marionette/element.js:300:16\n",
     "output_type": "error",
     "traceback": [
      "\u001b[1;31m---------------------------------------------------------------------------\u001b[0m",
      "\u001b[1;31mTimeoutException\u001b[0m                          Traceback (most recent call last)",
      "\u001b[1;32md:\\数据科学\\Spider\\selenium_compute_data\\main.ipynb Cell 2'\u001b[0m in \u001b[0;36m<module>\u001b[1;34m\u001b[0m\n\u001b[1;32m----> <a href='vscode-notebook-cell:/d%3A/%E6%95%B0%E6%8D%AE%E7%A7%91%E5%AD%A6/Spider/selenium_compute_data/main.ipynb#ch0000001?line=0'>1</a>\u001b[0m repeat1()\n",
      "\u001b[1;32md:\\数据科学\\Spider\\selenium_compute_data\\main.ipynb Cell 1'\u001b[0m in \u001b[0;36mrepeat1\u001b[1;34m()\u001b[0m\n\u001b[0;32m     <a href='vscode-notebook-cell:/d%3A/%E6%95%B0%E6%8D%AE%E7%A7%91%E5%AD%A6/Spider/selenium_compute_data/main.ipynb#ch0000000?line=33'>34</a>\u001b[0m number1 \u001b[39m+\u001b[39m\u001b[39m=\u001b[39m \u001b[39m1\u001b[39m\n\u001b[0;32m     <a href='vscode-notebook-cell:/d%3A/%E6%95%B0%E6%8D%AE%E7%A7%91%E5%AD%A6/Spider/selenium_compute_data/main.ipynb#ch0000000?line=34'>35</a>\u001b[0m \u001b[39mif\u001b[39;00m number1 \u001b[39m<\u001b[39m\u001b[39m=\u001b[39m number2\u001b[39m-\u001b[39m\u001b[39m2\u001b[39m:\n\u001b[0;32m     <a href='vscode-notebook-cell:/d%3A/%E6%95%B0%E6%8D%AE%E7%A7%91%E5%AD%A6/Spider/selenium_compute_data/main.ipynb#ch0000000?line=35'>36</a>\u001b[0m     \u001b[39m# 通过css选择器获取 “下一页” 按钮，再通过click()模拟点击\u001b[39;00m\n\u001b[0;32m     <a href='vscode-notebook-cell:/d%3A/%E6%95%B0%E6%8D%AE%E7%A7%91%E5%AD%A6/Spider/selenium_compute_data/main.ipynb#ch0000000?line=36'>37</a>\u001b[0m     \u001b[39m# driver.find_element(By.XPATH,'/html/body/div[1]/div[7]/div[2]/div[4]/div/a[10]').click()\u001b[39;00m\n\u001b[1;32m---> <a href='vscode-notebook-cell:/d%3A/%E6%95%B0%E6%8D%AE%E7%A7%91%E5%AD%A6/Spider/selenium_compute_data/main.ipynb#ch0000000?line=37'>38</a>\u001b[0m     btn \u001b[39m=\u001b[39m WebDriverWait(driver, \u001b[39m1\u001b[39;49m)\u001b[39m.\u001b[39;49muntil(EC\u001b[39m.\u001b[39;49melement_to_be_clickable((By\u001b[39m.\u001b[39;49mXPATH, \u001b[39m\"\u001b[39;49m\u001b[39m//*[@id=\u001b[39;49m\u001b[39m'\u001b[39;49m\u001b[39mapp\u001b[39;49m\u001b[39m'\u001b[39;49m\u001b[39m]/div[7]/div[2]/div[4]/div/a[10]\u001b[39;49m\u001b[39m\"\u001b[39;49m)))\n\u001b[0;32m     <a href='vscode-notebook-cell:/d%3A/%E6%95%B0%E6%8D%AE%E7%A7%91%E5%AD%A6/Spider/selenium_compute_data/main.ipynb#ch0000000?line=38'>39</a>\u001b[0m     btn\u001b[39m.\u001b[39mclick() \n\u001b[0;32m     <a href='vscode-notebook-cell:/d%3A/%E6%95%B0%E6%8D%AE%E7%A7%91%E5%AD%A6/Spider/selenium_compute_data/main.ipynb#ch0000000?line=39'>40</a>\u001b[0m     \u001b[39m# 迭代\u001b[39;00m\n",
      "File \u001b[1;32m~\\AppData\\Roaming\\Python\\Python310\\site-packages\\selenium\\webdriver\\support\\wait.py:89\u001b[0m, in \u001b[0;36mWebDriverWait.until\u001b[1;34m(self, method, message)\u001b[0m\n\u001b[0;32m     <a href='file:///c%3A/Users/24450/AppData/Roaming/Python/Python310/site-packages/selenium/webdriver/support/wait.py?line=86'>87</a>\u001b[0m     \u001b[39mif\u001b[39;00m time\u001b[39m.\u001b[39mtime() \u001b[39m>\u001b[39m end_time:\n\u001b[0;32m     <a href='file:///c%3A/Users/24450/AppData/Roaming/Python/Python310/site-packages/selenium/webdriver/support/wait.py?line=87'>88</a>\u001b[0m         \u001b[39mbreak\u001b[39;00m\n\u001b[1;32m---> <a href='file:///c%3A/Users/24450/AppData/Roaming/Python/Python310/site-packages/selenium/webdriver/support/wait.py?line=88'>89</a>\u001b[0m \u001b[39mraise\u001b[39;00m TimeoutException(message, screen, stacktrace)\n",
      "\u001b[1;31mTimeoutException\u001b[0m: Message: \nStacktrace:\nWebDriverError@chrome://remote/content/shared/webdriver/Errors.jsm:183:5\nNoSuchElementError@chrome://remote/content/shared/webdriver/Errors.jsm:395:5\nelement.find/</<@chrome://remote/content/marionette/element.js:300:16\n"
     ]
    }
   ],
   "source": [
    "repeat1()"
   ]
  }
 ],
 "metadata": {
  "interpreter": {
   "hash": "b89b5cfaba6639976dc87ff2fec6d58faec662063367e2c229c520fe71072417"
  },
  "kernelspec": {
   "display_name": "Python 3.10.2 64-bit",
   "language": "python",
   "name": "python3"
  },
  "language_info": {
   "codemirror_mode": {
    "name": "ipython",
    "version": 3
   },
   "file_extension": ".py",
   "mimetype": "text/x-python",
   "name": "python",
   "nbconvert_exporter": "python",
   "pygments_lexer": "ipython3",
   "version": "3.10.2"
  },
  "orig_nbformat": 4
 },
 "nbformat": 4,
 "nbformat_minor": 2
}
